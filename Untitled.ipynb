{
 "cells": [
  {
   "cell_type": "code",
   "execution_count": null,
   "id": "336d1845",
   "metadata": {},
   "outputs": [],
   "source": [
    "import numpy as np\n",
    "from matplotlib import pylab as plt\n",
    "import pandas as pd\n",
    "from scipy.optimize import leastsq as lsq\n",
    "from scipy.optimize import curve_fit\n",
    "import scipy.stats as spst\n",
    "from scipy import integrate\n",
    "#New imports\n",
    "from pycalphad import models, calculate, equilibrium, variables as v"
   ]
  },
  {
   "cell_type": "code",
   "execution_count": null,
   "id": "48571ac9",
   "metadata": {},
   "outputs": [],
   "source": [
    "# Want to switch to importing data with espei rather than pandas\n",
    "df = pd.read_csv('Cr_Cp.txt', sep=\"\\t\")\n",
    "df.info()\n",
    "df.describe()"
   ]
  },
  {
   "cell_type": "code",
   "execution_count": null,
   "id": "df6b86b4",
   "metadata": {},
   "outputs": [],
   "source": [
    "new_df = df[df.Temp>5] #df[df.Temp>5] # due to computational problems we have to avoid some observation close to zero"
   ]
  },
  {
   "cell_type": "code",
   "execution_count": null,
   "id": "d32790f9",
   "metadata": {},
   "outputs": [],
   "source": [
    "# Get AIC. THERE IS AN IMPROVED VERSION SOMEWHERE IN ESPEI\n",
    "def AIC(logLik, nparm,k=2):\n",
    "    return -2*logLik + k*(nparm + 1) "
   ]
  },
  {
   "cell_type": "code",
   "execution_count": null,
   "id": "af2cccce",
   "metadata": {},
   "outputs": [],
   "source": [
    "#Determine if this exists in espei or pycalphad in any capacity. Issue here is that this is Cp, ESPEI likes Gibbs energy\n",
    "def Cp_fit(func, initialGuess, parmNames, data_df):\n",
    "    nparm = len(initialGuess)   # number of models parameters\n",
    "    popt,pcov = curve_fit(func, data_df.Temp, data_df.Cp,initialGuess)  # get optimized parameter values and covariance matrix\n",
    "\n",
    "    # Get the parameters\n",
    "    parmEsts = popt\n",
    "    fvec=func(data_df.Temp,*parmEsts)-data_df.Cp   # residuals\n",
    "\n",
    "    # Get the Error variance and standard deviation\n",
    "    RSS = np.sum(fvec**2 )        # RSS = residuals sum of squares\n",
    "    dof = len(data_df) - nparm     # dof = degrees of freedom \n",
    "    nobs = len(data_df)            # nobs = number of observation\n",
    "    MSE = RSS / dof               # MSE = mean squares error\n",
    "    RMSE = np.sqrt(MSE)           # RMSE = root of MSE\n",
    "\n",
    "    # Get the covariance matrix\n",
    "    cov = pcov\n",
    "\n",
    "    # Get parameter standard errors\n",
    "    parmSE = np.diag( np.sqrt( cov ) )\n",
    "\n",
    "    # Calculate the t-values\n",
    "    tvals = parmEsts/parmSE\n",
    "\n",
    "    # Get p-values\n",
    "    pvals = (1 - spst.t.cdf( np.abs(tvals),dof))*2\n",
    "\n",
    "    # Get goodnes-of-fit criteria\n",
    "    s2b = RSS / nobs\n",
    "    logLik = -nobs/2 * np.log(2*np.pi) - nobs/2 * np.log(s2b) - 1/(2*s2b) * RSS \n",
    "\n",
    "    fit_df=pd.DataFrame(dict( Estimate=parmEsts, StdErr=parmSE, tval=tvals, pval=pvals))\n",
    "\n",
    "    fit_df.index=parmNames\n",
    "\n",
    "    print ('Non-linear least squares')\n",
    "    print ('Model: ' + func.__name__)\n",
    "    print( '')\n",
    "    print(fit_df)\n",
    "    print()\n",
    "    print ('Residual Standard Error: % 5.4f' % RMSE)\n",
    "    print ('Df: %i' % dof)\n",
    "    print('AIC:', AIC(logLik, nparm))\n",
    "    return parmEsts"
   ]
  },
  {
   "cell_type": "code",
   "execution_count": null,
   "id": "b5c4665a",
   "metadata": {},
   "outputs": [],
   "source": [
    "references = sorted(df.Ref.unique()) # define unique references\n",
    "colors = plt.cm.rainbow(np.linspace(0, 1, len(references)))\n",
    "for ref, col in zip(references, colors):\n",
    "    sub_df = df[df.Ref==ref]\n",
    "    plt.scatter(sub_df.Temp, sub_df.Cp, color=col, label=ref)"
   ]
  },
  {
   "cell_type": "markdown",
   "id": "0e7aba9f",
   "metadata": {},
   "source": [
    "## Einstein RW"
   ]
  },
  {
   "cell_type": "code",
   "execution_count": null,
   "id": "18e261d4",
   "metadata": {},
   "outputs": [],
   "source": [
    "def Model_CpRW95(T,*param):\n",
    "    Theta_E = param[0]\n",
    "    a = param[1]\n",
    "    b = param[2]    \n",
    "    f1 = np.exp(Theta_E/T)/(np.exp(Theta_E/T)-1)**2.0\n",
    "    Cp_Einstein = 3.0 * 8.314 * (Theta_E/T)**2.0 * f1\n",
    "    Cp_res = Cp_Einstein + a * T + b * T**2\n",
    "    \n",
    "    return Cp_res"
   ]
  },
  {
   "cell_type": "markdown",
   "id": "be20cbbc",
   "metadata": {},
   "source": [
    "## SR 2016 Debye"
   ]
  },
  {
   "cell_type": "code",
   "execution_count": null,
   "id": "9f0af7b8",
   "metadata": {},
   "outputs": [],
   "source": [
    "def integrand(x):\n",
    "    return (x**4 * np.exp(x))/((np.exp(x) - 1)**2)\n",
    "def Model_CpSR16(T,*param):\n",
    "    Theta_D = param[0]\n",
    "    beta1 = param[1]\n",
    "    beta2 = param[2]\n",
    "    tau = param[3]\n",
    "    gamma = param[4]\n",
    "    #\n",
    "    Cp_SR_final = []\n",
    "    for i in T:\n",
    "        if i < (tau - gamma):\n",
    "            Cp = beta1 * i\n",
    "        elif i > (tau + gamma):\n",
    "            Cp = (beta1 * i) + (beta2 * (i - tau))\n",
    "        else:\n",
    "            Cp = beta1 * i + beta2 * (i - tau + gamma)**2/(4*gamma)\n",
    "        f1 = integrate.quad(integrand, 0,(Theta_D/i))[0]\n",
    "        Cp_debye = 9.0 * 8.314 * (i/Theta_D)**3.0 * f1\n",
    "        Cp_final = Cp_debye + Cp\n",
    "        Cp_SR_final.append(Cp_final)\n",
    "    return Cp_SR_final"
   ]
  },
  {
   "cell_type": "markdown",
   "id": "8d1bfea1",
   "metadata": {},
   "source": [
    "## SR LCE"
   ]
  },
  {
   "cell_type": "code",
   "execution_count": null,
   "id": "a87e7359",
   "metadata": {},
   "outputs": [],
   "source": [
    "def Cp_E(Theta_E):\n",
    "    f1 = np.exp(Theta_E/T)/(np.exp(Theta_E/T)-1)**2.0\n",
    "    3.0 * 8.314 * (Theta_E/T)**2.0 *f1\n",
    "    Cp_E_result = []\n",
    "    return Cp_E_result\n",
    "    \n",
    "def Model_CpSRLCE(T,*param):\n",
    "    Theta_E1 = param[0]\n",
    "    Theta_E2 = param[1] #added\n",
    "    a1 = param[2] #added\n",
    "    a2 = param[3] #added\n",
    "    beta1 = param[4]\n",
    "    beta2 = param[5]\n",
    "    tau = param[6]\n",
    "    gamma = param[7]\n",
    "        #\n",
    "    Cp_LCE_SR_final = []\n",
    "    for i in T: #Cp not related to einstein\n",
    "        if i < (tau - gamma):\n",
    "            Cp = beta1 * i\n",
    "        elif i > (tau + gamma):\n",
    "            Cp = (beta1 * i) + (beta2 * (i - tau))\n",
    "        else:\n",
    "            Cp = beta1 * i + beta2 * (i - tau + gamma)**2/(4*gamma)\n",
    "        Cp_LCE = a1*Cp_E(Theta_E1)+a2*Cp_E(Theta_E2)      \n",
    "        Cp_LCE_final = Cp_LCE + Cp #good\n",
    "        Cp_LCE_SR_final.append(Cp_LCE_final)\n",
    "    return Cp_LCE_SR_final #good"
   ]
  }
 ],
 "metadata": {
  "kernelspec": {
   "display_name": "Python 3",
   "language": "python",
   "name": "python3"
  },
  "language_info": {
   "codemirror_mode": {
    "name": "ipython",
    "version": 3
   },
   "file_extension": ".py",
   "mimetype": "text/x-python",
   "name": "python",
   "nbconvert_exporter": "python",
   "pygments_lexer": "ipython3",
   "version": "3.8.8"
  }
 },
 "nbformat": 4,
 "nbformat_minor": 5
}
